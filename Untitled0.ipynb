{
  "nbformat": 4,
  "nbformat_minor": 0,
  "metadata": {
    "colab": {
      "provenance": [],
      "authorship_tag": "ABX9TyP6NmajaVzpKoZl+IZ99+Q4",
      "include_colab_link": true
    },
    "kernelspec": {
      "name": "python3",
      "display_name": "Python 3"
    },
    "language_info": {
      "name": "python"
    }
  },
  "cells": [
    {
      "cell_type": "markdown",
      "metadata": {
        "id": "view-in-github",
        "colab_type": "text"
      },
      "source": [
        "<a href=\"https://colab.research.google.com/github/Radiukk/Acessando_Registro_arquivo/blob/main/Untitled0.ipynb\" target=\"_parent\"><img src=\"https://colab.research.google.com/assets/colab-badge.svg\" alt=\"Open In Colab\"/></a>"
      ]
    },
    {
      "cell_type": "code",
      "execution_count": null,
      "metadata": {
        "id": "lprKbiOrojds"
      },
      "outputs": [],
      "source": [
        "import time\n",
        "\n",
        "def openLog(nomearq, modo = 'r'):\n",
        "\n",
        "  arqEntrada = open(nomearq, modo)\n",
        "\n",
        "  now = time.localtime()\n",
        "  nowFormat = time.strftime('%A %b/%d/%y %I:%M %p', now)\n",
        "\n",
        "  # abre arquivo log.txt no modo acréscimo e acrescenta log\n",
        "  arqSaída = open('log.txt', 'a')\n",
        "  arqSaída.write('Arquivo {} aberto. \\n'.format(nomearq))\n",
        "  arqSaída.close()\n",
        "\n",
        "  print('Registro realizado.')\n",
        "\n",
        "  return arqEntrada\n",
        "\n"
      ]
    }
  ]
}